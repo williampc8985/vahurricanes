{
 "cells": [
  {
   "cell_type": "code",
   "execution_count": 1,
   "metadata": {},
   "outputs": [],
   "source": [
    "# the first thing is to import pandas and datatime\n",
    "import matplotlib.pyplot as plt\n",
    "import csv\n",
    "import shapefile\n",
    "import pandas as pd\n",
    "from shapely.geometry import Point, Polygon, mapping\n",
    "from fiona import collection\n",
    "import geopandas as gpd\n",
    "import shapely.geometry as Polygon\n",
    "import datetime\n",
    "from datetime import datetime\n",
    "import numpy as np\n",
    "import filecmp\n",
    "from geopandas import GeoDataFrame as gdf"
   ]
  },
  {
   "cell_type": "code",
   "execution_count": 2,
   "metadata": {},
   "outputs": [],
   "source": [
    "# we know that the lat long is north-west, turn them into floating pt values\n",
    "def lat_lon_to_float(v):  \n",
    "    '''convert strings from NHC to float locations'''\n",
    "    if(v[-1] == 'S') or (v[-1] == 'W'):\n",
    "        multiplier = -1\n",
    "    else:\n",
    "        multiplier = 1\n",
    "    return float(v[:-1]) * multiplier"
   ]
  },
  {
   "cell_type": "code",
   "execution_count": 3,
   "metadata": {},
   "outputs": [],
   "source": [
    "hurdata = []\n",
    "with open ('/home/pchilton/work/CSVDATA/hurdat2.txt','r') as f:\n",
    "    for line in f.readlines():\n",
    "        if line.startswith('AL'):\n",
    "            storm_id = line.split(',')\n",
    "            storm_number = storm_id[0].strip()\n",
    "            storm_name = storm_id[1].strip() \n",
    "        else:\n",
    "            location_line = line.split(',')\n",
    "            dt = datetime.strptime(location_line[0]+location_line[1], '%Y%m%d %H%M' )\n",
    "            storm_status = location_line[3].strip()\n",
    "            storm_lat = lat_lon_to_float(location_line[4].strip())\n",
    "            storm_lon = lat_lon_to_float(location_line[5].strip())\n",
    "            hurdata.append([storm_number, storm_name, storm_status, storm_lat, storm_lon, dt])"
   ]
  },
  {
   "cell_type": "code",
   "execution_count": 4,
   "metadata": {},
   "outputs": [
    {
     "name": "stdout",
     "output_type": "stream",
     "text": [
      "AL021851\n"
     ]
    }
   ],
   "source": [
    "df = pd.DataFrame(hurdata, columns = ['Storm Number', 'Storm Name', 'Storm Status', 'Lat', 'Lon','Time'])\n",
    "storm_index = df['Storm Number'].unique()\n",
    "storm_values = df['Storm Number'].values # this created the array\n",
    "print(storm_index[1])\n",
    "length_storms = len(storm_index)\n"
   ]
  },
  {
   "cell_type": "code",
   "execution_count": 5,
   "metadata": {},
   "outputs": [],
   "source": [
    "#dataframes for csv files\n",
    "dfbuffer = pd.read_csv('/home/pchilton/work/CSVDATA/bufferlatlongV2.csv', delimiter = ',')\n",
    "dfhurdat = pd.read_csv('/home/pchilton/work/CSVDATA/hurdatlatlong.csv', delimiter = ',')\n",
    "dfcoast = pd.read_csv('/home/pchilton/work/CSVDATA/coastlatlongV2.csv', delimiter = ',')\n",
    "dfbasin = pd.read_csv('/home/pchilton/work/CSVDATA/jamesbasinlatlongV2.csv', delimiter = ',')"
   ]
  },
  {
   "cell_type": "code",
   "execution_count": 6,
   "metadata": {},
   "outputs": [
    {
     "data": {
      "image/png": "[encoded data removed]",
      "text/plain": [
       "<Figure size 432x288 with 1 Axes>"
      ]
     },
     "metadata": {
      "needs_background": "light"
     },
     "output_type": "display_data"
    }
   ],
   "source": [
    "# producing the polygons for the basin and the 60nmi buffer #\n",
    "#print(bufferpoints)\n",
    "#bufferpoints.plot()\n",
    "#buffershape = Polygon(bufferpoints)\n",
    "#print(dfbuffer['Lon'])\n",
    "#print(dfbuffer['Lat'])\n",
    "bufferpoly = zip(dfbuffer['Lon'],dfbuffer['Lat'])\n",
    "basinpoly = zip(dfbasin['Lon'],dfbasin['Lat'])\n",
    "plt.figure()\n",
    "plt.plot(dfbuffer['Lon'],dfbuffer['Lat']) \n",
    "plt.plot(dfbasin['Lon'],dfbasin['Lat'])\n",
    "plt.show()"
   ]
  },
  {
   "cell_type": "code",
   "execution_count": 7,
   "metadata": {},
   "outputs": [],
   "source": [
    "#for i in range(length_storms):\n",
    "#dummy = np.argwhere(storm_values == storm_index[0])\n",
    "#print(dummy)\n",
    "    "
   ]
  },
  {
   "cell_type": "code",
   "execution_count": 8,
   "metadata": {},
   "outputs": [],
   "source": [
    "#df.to_csv('hurdatlatlong.csv')"
   ]
  },
  {
   "cell_type": "code",
   "execution_count": 9,
   "metadata": {},
   "outputs": [
    {
     "ename": "FileNotFoundError",
     "evalue": "[Errno 2] No such file or directory: 'hurdatlatlong.csv'",
     "output_type": "error",
     "traceback": [
      "\u001b[0;31m---------------------------------------------------------------------------\u001b[0m",
      "\u001b[0;31mFileNotFoundError\u001b[0m                         Traceback (most recent call last)",
      "\u001b[0;32m<ipython-input-9-2ae5612220a0>\u001b[0m in \u001b[0;36m<module>\u001b[0;34m\u001b[0m\n\u001b[0;32m----> 1\u001b[0;31m \u001b[0;32mwith\u001b[0m \u001b[0mopen\u001b[0m\u001b[0;34m(\u001b[0m\u001b[0;34m'hurdatlatlong.csv'\u001b[0m\u001b[0;34m,\u001b[0m\u001b[0;34m'r'\u001b[0m\u001b[0;34m)\u001b[0m \u001b[0;32mas\u001b[0m \u001b[0mhurdat\u001b[0m\u001b[0;34m:\u001b[0m\u001b[0;34m\u001b[0m\u001b[0;34m\u001b[0m\u001b[0m\n\u001b[0m\u001b[1;32m      2\u001b[0m     \u001b[0;32mwith\u001b[0m \u001b[0mopen\u001b[0m\u001b[0;34m(\u001b[0m\u001b[0;34m'coastlatlongV2.csv'\u001b[0m\u001b[0;34m,\u001b[0m\u001b[0;34m'r'\u001b[0m\u001b[0;34m)\u001b[0m \u001b[0;32mas\u001b[0m \u001b[0mcoast\u001b[0m\u001b[0;34m:\u001b[0m\u001b[0;34m\u001b[0m\u001b[0;34m\u001b[0m\u001b[0m\n\u001b[1;32m      3\u001b[0m         \u001b[0;32mwith\u001b[0m \u001b[0mopen\u001b[0m\u001b[0;34m(\u001b[0m\u001b[0;34m'jamesbasinlatlongV2.csv'\u001b[0m\u001b[0;34m,\u001b[0m\u001b[0;34m'r'\u001b[0m\u001b[0;34m)\u001b[0m\u001b[0;32mas\u001b[0m \u001b[0mbasin\u001b[0m\u001b[0;34m:\u001b[0m\u001b[0;34m\u001b[0m\u001b[0;34m\u001b[0m\u001b[0m\n\u001b[1;32m      4\u001b[0m             \u001b[0;32mwith\u001b[0m \u001b[0mopen\u001b[0m\u001b[0;34m(\u001b[0m\u001b[0;34m'bufferlatlongV2.csv'\u001b[0m\u001b[0;34m,\u001b[0m \u001b[0;34m'r'\u001b[0m\u001b[0;34m)\u001b[0m \u001b[0;32mas\u001b[0m \u001b[0mbuffer\u001b[0m\u001b[0;34m:\u001b[0m\u001b[0;34m\u001b[0m\u001b[0;34m\u001b[0m\u001b[0m\n\u001b[1;32m      5\u001b[0m                 \u001b[0;32mwith\u001b[0m \u001b[0mopen\u001b[0m\u001b[0;34m(\u001b[0m\u001b[0;34m'commonlatlong.txt'\u001b[0m\u001b[0;34m,\u001b[0m\u001b[0;34m'w'\u001b[0m\u001b[0;34m)\u001b[0m \u001b[0;32mas\u001b[0m \u001b[0mnewfile\u001b[0m\u001b[0;34m:\u001b[0m\u001b[0;34m\u001b[0m\u001b[0;34m\u001b[0m\u001b[0m\n",
      "\u001b[0;31mFileNotFoundError\u001b[0m: [Errno 2] No such file or directory: 'hurdatlatlong.csv'"
     ]
    }
   ],
   "source": [
    "with open('hurdatlatlong.csv','r') as hurdat:\n",
    "    with open('coastlatlongV2.csv','r') as coast:\n",
    "        with open('jamesbasinlatlongV2.csv','r')as basin:\n",
    "            with open('bufferlatlongV2.csv', 'r') as buffer:\n",
    "                with open('commonlatlong.txt','w') as newfile:\n",
    "                    for line in hurdat:\n",
    "                        if line == coast and line == basin and line == buffer:\n",
    "                            newfile.write(line)\n",
    "hurdat.close()\n",
    "coast.close()\n",
    "basin.close()\n",
    "buffer.close()\n",
    "newfile.close()\n"
   ]
  },
  {
   "cell_type": "code",
   "execution_count": null,
   "metadata": {},
   "outputs": [],
   "source": [
    "\n"
   ]
  },
  {
   "cell_type": "code",
   "execution_count": null,
   "metadata": {},
   "outputs": [],
   "source": []
  }
 ],
 "metadata": {
  "kernelspec": {
   "display_name": "Python 3",
   "language": "python",
   "name": "python3"
  },
  "language_info": {
   "codemirror_mode": {
    "name": "ipython",
    "version": 3
   },
   "file_extension": ".py",
   "mimetype": "text/x-python",
   "name": "python",
   "nbconvert_exporter": "python",
   "pygments_lexer": "ipython3",
   "version": "3.8.3"
  }
 },
 "nbformat": 4,
 "nbformat_minor": 4
}
