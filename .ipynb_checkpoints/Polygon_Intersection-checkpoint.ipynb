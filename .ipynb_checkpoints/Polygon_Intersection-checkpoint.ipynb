{
 "cells": [
  {
   "cell_type": "code",
   "execution_count": 1,
   "metadata": {
    "colab": {
     "base_uri": "https://localhost:8080/"
    },
    "executionInfo": {
     "elapsed": 1400,
     "status": "ok",
     "timestamp": 1611340777189,
     "user": {
      "displayName": "Chreston Miller",
      "photoUrl": "https://lh3.googleusercontent.com/a-/AOh14GjhmKnq8NhNFQpcHJWlTuuVGgkdmQ-Q778aAu_Pog=s64",
      "userId": "01077468890087841126"
     },
     "user_tz": 300
    },
    "id": "L5A2l51pajtU",
    "outputId": "5e45c0cd-6df5-4207-9bc7-8b394f258d88"
   },
   "outputs": [
    {
     "name": "stdout",
     "output_type": "stream",
     "text": [
      "[Point2D(0, 0), Point2D(3/2, 1)]\n"
     ]
    }
   ],
   "source": [
    "# import Point, Polygon \n",
    "from sympy import Point, Polygon, Line \n",
    "  \n",
    "# creating points using Point() \n",
    "p1, p2, p3, p4 = map(Point, [(0, 0), (1, 0), (5, 1), (0, 1)]) \n",
    "  \n",
    "# creating polygon using Polygon() \n",
    "poly1 = Polygon(p1, p2, p3, p4) \n",
    "  \n",
    "# using intersection() \n",
    "isIntersection = poly1.intersection(Line(p1, Point(3, 2))) \n",
    "                                      \n",
    "print(isIntersection)"
   ]
  },
  {
   "cell_type": "code",
   "execution_count": null,
   "metadata": {
    "id": "xXG1UwHpa8gj"
   },
   "outputs": [],
   "source": []
  }
 ],
 "metadata": {
  "colab": {
   "authorship_tag": "ABX9TyNUVCF21UIsLZr0qIe0BU/Z",
   "collapsed_sections": [],
   "name": "Polygon_Intersection.ipynb",
   "provenance": []
  },
  "kernelspec": {
   "display_name": "Python 3",
   "language": "python",
   "name": "python3"
  }
 },
 "nbformat": 4,
 "nbformat_minor": 1
}
