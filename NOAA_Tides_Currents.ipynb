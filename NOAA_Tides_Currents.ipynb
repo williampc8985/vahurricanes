{
 "cells": [
  {
   "cell_type": "code",
   "execution_count": 1,
   "metadata": {},
   "outputs": [
    {
     "name": "stdout",
     "output_type": "stream",
     "text": [
      "36.778306\n",
      "-76.301694\n"
     ]
    },
    {
     "name": "stderr",
     "output_type": "stream",
     "text": [
      "/home/pchilton/anaconda3/lib/python3.8/site-packages/noaa_coops/noaa_coops.py:404: FutureWarning: pandas.io.json.json_normalize is deprecated, use pandas.json_normalize instead\n",
      "  df = json_normalize(json_dict[key])  # Parse JSON dict to dataframe\n"
     ]
    }
   ],
   "source": [
    "from pprint import pprint  # For pretty printing\n",
    "import noaa_coops as nc\n",
    "moneypointva= nc.Station(8639348)\n",
    "pprint(moneypointva.lat_lon['lat'])\n",
    "pprint(moneypointva.lat_lon['lon'])\n",
    "import noaa_coops as nc\n",
    "import pandas as pandas\n",
    "moneypointva = nc.Station(8639348)\n",
    "df_water_levels = moneypointva.get_data(\n",
    "begin_date=\"19971218\",\n",
    "end_date=\"20200930\",\n",
    "product=\"water_level\",\n",
    "datum=\"MLLW\",\n",
    "units=\"metric\",\n",
    "time_zone=\"gmt\")\n",
    "#pandas.json_normalize(df_water_levels,max_level = 0)\n",
    "df_water_levels.head() \n",
    "df_water_levels.to_csv('moneypointva.csv')"
   ]
  },
  {
   "cell_type": "code",
   "execution_count": 2,
   "metadata": {},
   "outputs": [
    {
     "name": "stdout",
     "output_type": "stream",
     "text": [
      "36.946701\n",
      "-76.330002\n"
     ]
    }
   ],
   "source": [
    "from pprint import pprint  # For pretty printing\n",
    "import noaa_coops as nc\n",
    "sewellsptva= nc.Station(8638610)\n",
    "pprint(sewellsptva.lat_lon['lat'])\n",
    "pprint(sewellsptva.lat_lon['lon'])\n",
    "import noaa_coops as nc\n",
    "import pandas as pandas\n",
    "sewellsptva = nc.Station(8638610)\n",
    "df_water_levels = sewellsptva.get_data(\n",
    "begin_date=\"19430915\",\n",
    "end_date=\"20200930\",\n",
    "product=\"water_level\",\n",
    "datum=\"MLLW\",\n",
    "units=\"metric\",\n",
    "time_zone=\"gmt\")\n",
    "#pandas.json_normalize(df_water_levels,max_level = 0)\n",
    "df_water_levels.head() \n",
    "df_water_levels.to_csv('sewellsptva.csv')"
   ]
  },
  {
   "cell_type": "code",
   "execution_count": 3,
   "metadata": {},
   "outputs": [
    {
     "name": "stdout",
     "output_type": "stream",
     "text": [
      "37.032902\n",
      "-76.083298\n"
     ]
    }
   ],
   "source": [
    "from pprint import pprint  # For pretty printing\n",
    "import noaa_coops as nc\n",
    "cbbtva= nc.Station(8638901)\n",
    "pprint(cbbtva.lat_lon['lat'])\n",
    "pprint(cbbtva.lat_lon['lon'])\n",
    "import noaa_coops as nc\n",
    "import pandas as pandas\n",
    "cbbtva = nc.Station(8638901)\n",
    "df_water_levels = cbbtva.get_data(\n",
    "begin_date=\"20170419\",\n",
    "end_date=\"20200930\",\n",
    "product=\"water_level\",\n",
    "datum=\"MLLW\",\n",
    "units=\"metric\",\n",
    "time_zone=\"gmt\")\n",
    "#pandas.json_normalize(df_water_levels,max_level = 0)\n",
    "df_water_levels.head() \n",
    "df_water_levels.to_csv('cbbtva.csv')"
   ]
  },
  {
   "cell_type": "code",
   "execution_count": 4,
   "metadata": {},
   "outputs": [
    {
     "name": "stdout",
     "output_type": "stream",
     "text": [
      "37.2265\n",
      "-76.478806\n"
     ]
    }
   ],
   "source": [
    "from pprint import pprint  # For pretty printing\n",
    "import noaa_coops as nc\n",
    "yorktownva= nc.Station(8637689)\n",
    "pprint(yorktownva.lat_lon['lat'])\n",
    "pprint(yorktownva.lat_lon['lon'])\n",
    "import noaa_coops as nc\n",
    "import pandas as pandas\n",
    "yorktownva = nc.Station(8637689)\n",
    "df_water_levels = yorktownva.get_data(\n",
    "begin_date=\"20040308\",\n",
    "end_date=\"20200930\",\n",
    "product=\"water_level\",\n",
    "datum=\"MLLW\",\n",
    "units=\"metric\",\n",
    "time_zone=\"gmt\")\n",
    "#pandas.json_normalize(df_water_levels,max_level = 0)\n",
    "df_water_levels.head() \n",
    "df_water_levels.to_csv('yorktownva.csv')"
   ]
  },
  {
   "cell_type": "code",
   "execution_count": 5,
   "metadata": {},
   "outputs": [
    {
     "name": "stdout",
     "output_type": "stream",
     "text": [
      "37.16519\n",
      "-75.988444\n"
     ]
    }
   ],
   "source": [
    "from pprint import pprint  # For pretty printing\n",
    "import noaa_coops as nc\n",
    "kiptopekeva= nc.Station(8632200)\n",
    "pprint(kiptopekeva.lat_lon['lat'])\n",
    "pprint(kiptopekeva.lat_lon['lon'])\n",
    "import noaa_coops as nc\n",
    "import pandas as pandas\n",
    "kiptopekeva = nc.Station(8632200)\n",
    "df_water_levels = kiptopekeva.get_data(\n",
    "begin_date=\"19780801\",\n",
    "end_date=\"20200930\",\n",
    "product=\"water_level\",\n",
    "datum=\"MLLW\",\n",
    "units=\"metric\",\n",
    "time_zone=\"gmt\")\n",
    "#pandas.json_normalize(df_water_levels,max_level = 0)\n",
    "df_water_levels.head() \n",
    "df_water_levels.to_csv('kiptopekeva.csv')"
   ]
  },
  {
   "cell_type": "code",
   "execution_count": 6,
   "metadata": {},
   "outputs": [
    {
     "name": "stdout",
     "output_type": "stream",
     "text": [
      "37.607778\n",
      "-75.685833\n"
     ]
    }
   ],
   "source": [
    "from pprint import pprint  # For pretty printing\n",
    "import noaa_coops as nc\n",
    "wachprgva= nc.Station(8631044)\n",
    "pprint(wachprgva.lat_lon['lat'])\n",
    "pprint(wachprgva.lat_lon['lon'])\n",
    "import noaa_coops as nc\n",
    "import pandas as pandas\n",
    "wachprgva = nc.Station(8631044)\n",
    "df_water_levels = wachprgva.get_data(\n",
    "begin_date=\"19780528\",\n",
    "end_date=\"20200930\",\n",
    "product=\"water_level\",\n",
    "datum=\"MLLW\",\n",
    "units=\"metric\",\n",
    "time_zone=\"gmt\")\n",
    "#pandas.json_normalize(df_water_levels,max_level = 0)\n",
    "df_water_levels.head() \n",
    "df_water_levels.to_csv('wachprgva.csv')"
   ]
  },
  {
   "cell_type": "code",
   "execution_count": 7,
   "metadata": {},
   "outputs": [
    {
     "name": "stdout",
     "output_type": "stream",
     "text": [
      "37.995278\n",
      "-76.464722\n"
     ]
    }
   ],
   "source": [
    "from pprint import pprint  # For pretty printing\n",
    "import noaa_coops as nc\n",
    "lewisettava= nc.Station(8635750)\n",
    "pprint(lewisettava.lat_lon['lat'])\n",
    "pprint(lewisettava.lat_lon['lon'])\n",
    "import noaa_coops as nc\n",
    "import pandas as pandas\n",
    "lewisettava = nc.Station(8635750)\n",
    "df_water_levels = lewisettava.get_data(\n",
    "begin_date=\"19790630\",\n",
    "end_date=\"20200930\",\n",
    "product=\"water_level\",\n",
    "datum=\"MLLW\",\n",
    "units=\"metric\",\n",
    "time_zone=\"gmt\")\n",
    "#pandas.json_normalize(df_water_levels,max_level = 0)\n",
    "df_water_levels.head() \n",
    "df_water_levels.to_csv('lewisettava.csv')"
   ]
  },
  {
   "cell_type": "code",
   "execution_count": 8,
   "metadata": {},
   "outputs": [
    {
     "name": "stdout",
     "output_type": "stream",
     "text": [
      "38.328267\n",
      "-75.091086\n"
     ]
    }
   ],
   "source": [
    "from pprint import pprint  # For pretty printing\n",
    "import noaa_coops as nc\n",
    "oceanmd= nc.Station(8570283)\n",
    "pprint(oceanmd.lat_lon['lat'])\n",
    "pprint(oceanmd.lat_lon['lon'])\n",
    "import noaa_coops as nc\n",
    "import pandas as pandas\n",
    "oceanmd = nc.Station(8570283)\n",
    "df_water_levels = oceanmd.get_data(\n",
    "begin_date=\"20020801\",\n",
    "end_date=\"20200930\",\n",
    "product=\"water_level\",\n",
    "datum=\"MLLW\",\n",
    "units=\"metric\",\n",
    "time_zone=\"gmt\")\n",
    "#pandas.json_normalize(df_water_levels,max_level = 0)\n",
    "df_water_levels.head() \n",
    "df_water_levels.to_csv('oceanmd.csv')"
   ]
  },
  {
   "cell_type": "code",
   "execution_count": 9,
   "metadata": {},
   "outputs": [
    {
     "name": "stdout",
     "output_type": "stream",
     "text": [
      "38.31975\n",
      "-77.036611\n"
     ]
    }
   ],
   "source": [
    "from pprint import pprint  # For pretty printing\n",
    "import noaa_coops as nc\n",
    "dahlgrenva= nc.Station(8635027)\n",
    "pprint(dahlgrenva.lat_lon['lat'])\n",
    "pprint(dahlgrenva.lat_lon['lon'])\n",
    "import noaa_coops as nc\n",
    "import pandas as pandas\n",
    "dahlgrenva = nc.Station(8635027)\n",
    "df_water_levels = dahlgrenva.get_data(\n",
    "begin_date=\"20150923\",\n",
    "end_date=\"20200930\",\n",
    "product=\"water_level\",\n",
    "datum=\"MLLW\",\n",
    "units=\"metric\",\n",
    "time_zone=\"gmt\")\n",
    "#pandas.json_normalize(df_water_levels,max_level = 0)\n",
    "df_water_levels.head() \n",
    "df_water_levels.to_csv('dahlgrenva.csv')"
   ]
  },
  {
   "cell_type": "code",
   "execution_count": 10,
   "metadata": {},
   "outputs": [
    {
     "name": "stdout",
     "output_type": "stream",
     "text": [
      "38.317222\n",
      "-76.450833\n"
     ]
    }
   ],
   "source": [
    "from pprint import pprint  # For pretty printing\n",
    "import noaa_coops as nc\n",
    "solomonislemd= nc.Station(8577330)\n",
    "pprint(solomonislemd.lat_lon['lat'])\n",
    "pprint(solomonislemd.lat_lon['lon'])\n",
    "import noaa_coops as nc\n",
    "import pandas as pandas\n",
    "solomonislemd = nc.Station(8577330)\n",
    "df_water_levels = solomonislemd.get_data(\n",
    "begin_date=\"19790630\",\n",
    "end_date=\"20200930\",\n",
    "product=\"water_level\",\n",
    "datum=\"MLLW\",\n",
    "units=\"metric\",\n",
    "time_zone=\"gmt\")\n",
    "#pandas.json_normalize(df_water_levels,max_level = 0)\n",
    "df_water_levels.head() \n",
    "df_water_levels.to_csv('solomonislemd.csv')"
   ]
  },
  {
   "cell_type": "code",
   "execution_count": 11,
   "metadata": {},
   "outputs": [
    {
     "name": "stdout",
     "output_type": "stream",
     "text": [
      "38.22039\n",
      "-76.0387\n"
     ]
    }
   ],
   "source": [
    "from pprint import pprint  # For pretty printing\n",
    "import noaa_coops as nc\n",
    "bishopislemd= nc.Station(8571421)\n",
    "pprint(bishopislemd.lat_lon['lat'])\n",
    "pprint(bishopislemd.lat_lon['lon'])\n",
    "import noaa_coops as nc\n",
    "import pandas as pandas\n",
    "bishopislemd = nc.Station(8571421)\n",
    "df_water_levels = bishopislemd.get_data(\n",
    "begin_date=\"20050325\",\n",
    "end_date=\"20200930\",\n",
    "product=\"water_level\",\n",
    "datum=\"MLLW\",\n",
    "units=\"metric\",\n",
    "time_zone=\"gmt\")\n",
    "#pandas.json_normalize(df_water_levels,max_level = 0)\n",
    "df_water_levels.head() \n",
    "df_water_levels.to_csv('bishopislemd.csv')"
   ]
  },
  {
   "cell_type": "code",
   "execution_count": 13,
   "metadata": {},
   "outputs": [
    {
     "name": "stdout",
     "output_type": "stream",
     "text": [
      "38.5725\n",
      "-76.061667\n"
     ]
    }
   ],
   "source": [
    "from pprint import pprint  # For pretty printing\n",
    "import noaa_coops as nc\n",
    "cambridgemd= nc.Station(8571892)\n",
    "pprint(cambridgemd.lat_lon['lat'])\n",
    "pprint(cambridgemd.lat_lon['lon'])\n",
    "import noaa_coops as nc\n",
    "import pandas as pandas\n",
    "cambridgemd = nc.Station(8571892)\n",
    "df_water_levels = cambridgemd.get_data(\n",
    "begin_date=\"19790531\",\n",
    "end_date=\"20200930\",\n",
    "product=\"water_level\",\n",
    "datum=\"MLLW\",\n",
    "units=\"metric\",\n",
    "time_zone=\"gmt\")\n",
    "#pandas.json_normalize(df_water_levels,max_level = 0)\n",
    "df_water_levels.head() \n",
    "df_water_levels.to_csv('cambridgemd.csv')"
   ]
  },
  {
   "cell_type": "code",
   "execution_count": 14,
   "metadata": {},
   "outputs": [
    {
     "name": "stdout",
     "output_type": "stream",
     "text": [
      "38.873\n",
      "-77.0217\n"
     ]
    }
   ],
   "source": [
    "from pprint import pprint  # For pretty printing\n",
    "import noaa_coops as nc\n",
    "washingtondc= nc.Station(8594900)\n",
    "pprint(washingtondc.lat_lon['lat'])\n",
    "pprint(washingtondc.lat_lon['lon'])\n",
    "import noaa_coops as nc\n",
    "import pandas as pandas\n",
    "washingtondc = nc.Station(8594900)\n",
    "df_water_levels = washingtondc.get_data(\n",
    "begin_date=\"19310415\",\n",
    "end_date=\"20200930\",\n",
    "product=\"water_level\",\n",
    "datum=\"MLLW\",\n",
    "units=\"metric\",\n",
    "time_zone=\"gmt\")\n",
    "#pandas.json_normalize(df_water_levels,max_level = 0)\n",
    "df_water_levels.head() \n",
    "df_water_levels.to_csv('washingtondc.csv')"
   ]
  },
  {
   "cell_type": "code",
   "execution_count": 15,
   "metadata": {},
   "outputs": [
    {
     "name": "stdout",
     "output_type": "stream",
     "text": [
      "38.98328\n",
      "-76.4816\n"
     ]
    }
   ],
   "source": [
    "from pprint import pprint  # For pretty printing\n",
    "import noaa_coops as nc\n",
    "annapolismd= nc.Station(8575512)\n",
    "pprint(annapolismd.lat_lon['lat'])\n",
    "pprint(annapolismd.lat_lon['lon'])\n",
    "import noaa_coops as nc\n",
    "import pandas as pandas\n",
    "annapolismd = nc.Station(8575512)\n",
    "df_water_levels = annapolismd.get_data(\n",
    "begin_date=\"19280806\",\n",
    "end_date=\"20200930\",\n",
    "product=\"water_level\",\n",
    "datum=\"MLLW\",\n",
    "units=\"metric\",\n",
    "time_zone=\"gmt\")\n",
    "#pandas.json_normalize(df_water_levels,max_level = 0)\n",
    "df_water_levels.head() \n",
    "df_water_levels.to_csv('annapolismd.csv')"
   ]
  },
  {
   "cell_type": "code",
   "execution_count": 16,
   "metadata": {},
   "outputs": [
    {
     "name": "stdout",
     "output_type": "stream",
     "text": [
      "39.2134\n",
      "-76.244531\n"
     ]
    }
   ],
   "source": [
    "from pprint import pprint  # For pretty printing\n",
    "import noaa_coops as nc\n",
    "tolchestmd= nc.Station(8573364)\n",
    "pprint(tolchestmd.lat_lon['lat'])\n",
    "pprint(tolchestmd.lat_lon['lon'])\n",
    "import noaa_coops as nc\n",
    "import pandas as pandas\n",
    "tolchestmd = nc.Station(8573364)\n",
    "df_water_levels = tolchestmd.get_data(\n",
    "begin_date=\"19710625\",\n",
    "end_date=\"20200930\",\n",
    "product=\"water_level\",\n",
    "datum=\"MLLW\",\n",
    "units=\"metric\",\n",
    "time_zone=\"gmt\")\n",
    "#pandas.json_normalize(df_water_levels,max_level = 0)\n",
    "df_water_levels.head() \n",
    "df_water_levels.to_csv('tolchestmd.csv')"
   ]
  },
  {
   "cell_type": "code",
   "execution_count": 17,
   "metadata": {},
   "outputs": [
    {
     "name": "stdout",
     "output_type": "stream",
     "text": [
      "39.266944\n",
      "-76.579444\n"
     ]
    },
    {
     "ename": "KeyError",
     "evalue": "'data'",
     "output_type": "error",
     "traceback": [
      "\u001b[0;31m---------------------------------------------------------------------------\u001b[0m",
      "\u001b[0;31mKeyError\u001b[0m                                  Traceback (most recent call last)",
      "\u001b[0;32m<ipython-input-17-6a7ca9ce0287>\u001b[0m in \u001b[0;36m<module>\u001b[0;34m\u001b[0m\n\u001b[1;32m      7\u001b[0m \u001b[0;32mimport\u001b[0m \u001b[0mpandas\u001b[0m \u001b[0;32mas\u001b[0m \u001b[0mpandas\u001b[0m\u001b[0;34m\u001b[0m\u001b[0;34m\u001b[0m\u001b[0m\n\u001b[1;32m      8\u001b[0m \u001b[0mftmchenrymd\u001b[0m \u001b[0;34m=\u001b[0m \u001b[0mnc\u001b[0m\u001b[0;34m.\u001b[0m\u001b[0mStation\u001b[0m\u001b[0;34m(\u001b[0m\u001b[0;36m8574680\u001b[0m\u001b[0;34m)\u001b[0m\u001b[0;34m\u001b[0m\u001b[0;34m\u001b[0m\u001b[0m\n\u001b[0;32m----> 9\u001b[0;31m df_water_levels = ftmchenrymd.get_data(\n\u001b[0m\u001b[1;32m     10\u001b[0m \u001b[0mbegin_date\u001b[0m\u001b[0;34m=\u001b[0m\u001b[0;34m\"19020701\"\u001b[0m\u001b[0;34m,\u001b[0m\u001b[0;34m\u001b[0m\u001b[0;34m\u001b[0m\u001b[0m\n\u001b[1;32m     11\u001b[0m \u001b[0mend_date\u001b[0m\u001b[0;34m=\u001b[0m\u001b[0;34m\"20200930\"\u001b[0m\u001b[0;34m,\u001b[0m\u001b[0;34m\u001b[0m\u001b[0;34m\u001b[0m\u001b[0m\n",
      "\u001b[0;32m~/anaconda3/lib/python3.8/site-packages/noaa_coops/noaa_coops.py\u001b[0m in \u001b[0;36mget_data\u001b[0;34m(self, begin_date, end_date, product, datum, bin_num, interval, units, time_zone)\u001b[0m\n\u001b[1;32m    586\u001b[0m \u001b[0;34m\u001b[0m\u001b[0m\n\u001b[1;32m    587\u001b[0m                 \u001b[0;31m# Get dataframe for block and append to time series df\u001b[0m\u001b[0;34m\u001b[0m\u001b[0;34m\u001b[0m\u001b[0;34m\u001b[0m\u001b[0m\n\u001b[0;32m--> 588\u001b[0;31m                 \u001b[0mdf_new\u001b[0m \u001b[0;34m=\u001b[0m \u001b[0mself\u001b[0m\u001b[0;34m.\u001b[0m\u001b[0m_url2pandas\u001b[0m\u001b[0;34m(\u001b[0m\u001b[0mdata_url\u001b[0m\u001b[0;34m,\u001b[0m \u001b[0mproduct\u001b[0m\u001b[0;34m,\u001b[0m \u001b[0mnum_31day_blocks\u001b[0m\u001b[0;34m)\u001b[0m\u001b[0;34m\u001b[0m\u001b[0;34m\u001b[0m\u001b[0m\n\u001b[0m\u001b[1;32m    589\u001b[0m                 \u001b[0mdf\u001b[0m \u001b[0;34m=\u001b[0m \u001b[0mdf\u001b[0m\u001b[0;34m.\u001b[0m\u001b[0mappend\u001b[0m\u001b[0;34m(\u001b[0m\u001b[0mdf_new\u001b[0m\u001b[0;34m)\u001b[0m\u001b[0;34m\u001b[0m\u001b[0;34m\u001b[0m\u001b[0m\n\u001b[1;32m    590\u001b[0m \u001b[0;34m\u001b[0m\u001b[0m\n",
      "\u001b[0;32m~/anaconda3/lib/python3.8/site-packages/noaa_coops/noaa_coops.py\u001b[0m in \u001b[0;36m_url2pandas\u001b[0;34m(self, data_url, product, num_request_blocks)\u001b[0m\n\u001b[1;32m    402\u001b[0m                 \u001b[0mkey\u001b[0m \u001b[0;34m=\u001b[0m \u001b[0;34m\"data\"\u001b[0m\u001b[0;34m\u001b[0m\u001b[0;34m\u001b[0m\u001b[0m\n\u001b[1;32m    403\u001b[0m \u001b[0;34m\u001b[0m\u001b[0m\n\u001b[0;32m--> 404\u001b[0;31m             \u001b[0mdf\u001b[0m \u001b[0;34m=\u001b[0m \u001b[0mjson_normalize\u001b[0m\u001b[0;34m(\u001b[0m\u001b[0mjson_dict\u001b[0m\u001b[0;34m[\u001b[0m\u001b[0mkey\u001b[0m\u001b[0;34m]\u001b[0m\u001b[0;34m)\u001b[0m  \u001b[0;31m# Parse JSON dict to dataframe\u001b[0m\u001b[0;34m\u001b[0m\u001b[0;34m\u001b[0m\u001b[0m\n\u001b[0m\u001b[1;32m    405\u001b[0m \u001b[0;34m\u001b[0m\u001b[0m\n\u001b[1;32m    406\u001b[0m             \u001b[0;32mreturn\u001b[0m \u001b[0mdf\u001b[0m\u001b[0;34m\u001b[0m\u001b[0;34m\u001b[0m\u001b[0m\n",
      "\u001b[0;31mKeyError\u001b[0m: 'data'"
     ]
    }
   ],
   "source": [
    "from pprint import pprint  # For pretty printing\n",
    "import noaa_coops as nc\n",
    "ftmchenrymd= nc.Station(8574680)\n",
    "pprint(ftmchenrymd.lat_lon['lat'])\n",
    "pprint(ftmchenrymd.lat_lon['lon'])\n",
    "import noaa_coops as nc\n",
    "import pandas as pandas\n",
    "ftmchenrymd = nc.Station(8574680)\n",
    "df_water_levels = ftmchenrymd.get_data(\n",
    "begin_date=\"19020701\",\n",
    "end_date=\"20200930\",\n",
    "product=\"water_level\",\n",
    "datum=\"MLLW\",\n",
    "units=\"metric\",\n",
    "time_zone=\"gmt\")\n",
    "#pandas.json_normalize(df_water_levels,max_level = 0)\n",
    "df_water_levels.head() \n",
    "df_water_levels.to_csv('ftmchenrymd.csv')"
   ]
  },
  {
   "cell_type": "code",
   "execution_count": null,
   "metadata": {},
   "outputs": [],
   "source": []
  }
 ],
 "metadata": {
  "kernelspec": {
   "display_name": "Python 3",
   "language": "python",
   "name": "python3"
  },
  "language_info": {
   "codemirror_mode": {
    "name": "ipython",
    "version": 3
   },
   "file_extension": ".py",
   "mimetype": "text/x-python",
   "name": "python",
   "nbconvert_exporter": "python",
   "pygments_lexer": "ipython3",
   "version": "3.8.3"
  }
 },
 "nbformat": 4,
 "nbformat_minor": 4
}
