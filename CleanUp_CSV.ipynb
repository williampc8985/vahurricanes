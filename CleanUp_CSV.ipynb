{
 "cells": [
  {
   "cell_type": "code",
   "execution_count": 24,
   "metadata": {},
   "outputs": [],
   "source": [
    "with open('JamesRiv') as fin, open('JamesRiv2', 'w') as fout:\n",
    "    for line in fin:\n",
    "        fout.write(line.replace('\\t', ','))       "
   ]
  },
  {
   "cell_type": "code",
   "execution_count": 25,
   "metadata": {},
   "outputs": [],
   "source": [
    "with open('JamesRiv2') as fin, open('JamesRiv3', 'w') as fout:\n",
    "    for line in fin:\n",
    "        fout.write(line.replace('-', ''))"
   ]
  },
  {
   "cell_type": "code",
   "execution_count": 26,
   "metadata": {},
   "outputs": [],
   "source": [
    "with open('JamesRiv3') as fin, open('JamesRiv4', 'w') as fout:\n",
    "    for line in fin:\n",
    "        fout.write(line.replace(':', ''))"
   ]
  },
  {
   "cell_type": "code",
   "execution_count": 27,
   "metadata": {},
   "outputs": [],
   "source": [
    "with open('JamesRiv4') as fin, open('JamesRiv5', 'w') as fout:\n",
    "    for line in fin:\n",
    "        fout.write(line.replace(' ', ','))"
   ]
  },
  {
   "cell_type": "code",
   "execution_count": 28,
   "metadata": {},
   "outputs": [],
   "source": [
    "with open('JamesRiv5') as fin, open('JamesRiv6', 'w') as fout:\n",
    "    for line in fin:\n",
    "        fout.write(line.replace(',,', ''))"
   ]
  },
  {
   "cell_type": "code",
   "execution_count": 29,
   "metadata": {},
   "outputs": [],
   "source": [
    "with open('JamesRiv6') as fin, open('JamesRiv7', 'w') as fout:\n",
    "    for line in fin:\n",
    "        fout.write(line.replace('EDT,', ''))"
   ]
  },
  {
   "cell_type": "code",
   "execution_count": 30,
   "metadata": {},
   "outputs": [],
   "source": [
    "with open('JamesRiv7') as fin, open('JamesRiv8', 'w') as fout:\n",
    "    for line in fin:\n",
    "        fout.write(line.replace('USGS,', ''))"
   ]
  },
  {
   "cell_type": "code",
   "execution_count": 31,
   "metadata": {},
   "outputs": [],
   "source": [
    "with open('JamesRiv8') as fin, open('JamesRiv9', 'w') as fout:\n",
    "    for line in fin:\n",
    "        fout.write(line.replace('A', ''))"
   ]
  },
  {
   "cell_type": "code",
   "execution_count": 32,
   "metadata": {},
   "outputs": [],
   "source": [
    "with open('JamesRiv9') as fin, open('JamesRiv10', 'w') as fout:\n",
    "    for line in fin:\n",
    "        fout.write(line.replace('[', ''))"
   ]
  },
  {
   "cell_type": "code",
   "execution_count": 33,
   "metadata": {},
   "outputs": [],
   "source": [
    "with open('JamesRiv10') as fin, open('JamesRivClean', 'w') as fout:\n",
    "    for line in fin:\n",
    "        fout.write(line.replace(']', ''))"
   ]
  },
  {
   "cell_type": "code",
   "execution_count": null,
   "metadata": {},
   "outputs": [],
   "source": []
  }
 ],
 "metadata": {
  "kernelspec": {
   "display_name": "Python 3",
   "language": "python",
   "name": "python3"
  },
  "language_info": {
   "codemirror_mode": {
    "name": "ipython",
    "version": 3
   },
   "file_extension": ".py",
   "mimetype": "text/x-python",
   "name": "python",
   "nbconvert_exporter": "python",
   "pygments_lexer": "ipython3",
   "version": "3.8.3"
  }
 },
 "nbformat": 4,
 "nbformat_minor": 4
}
