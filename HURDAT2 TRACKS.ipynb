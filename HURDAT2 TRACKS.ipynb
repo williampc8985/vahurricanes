{
 "cells": [
  {
   "cell_type": "code",
   "execution_count": 13,
   "metadata": {},
   "outputs": [],
   "source": [
    "# we want storm number, name, class and location for each path."
   ]
  },
  {
   "cell_type": "code",
   "execution_count": 14,
   "metadata": {},
   "outputs": [],
   "source": [
    "# the first thing is to import pandas and datatime\n",
    "import pandas as pd\n",
    "import datetime\n",
    "from datetime import datetime"
   ]
  },
  {
   "cell_type": "code",
   "execution_count": 15,
   "metadata": {},
   "outputs": [],
   "source": [
    "# we know that the lat long is north-west, turn them into floating pt values\n",
    "def lat_lon_to_float(v):\n",
    "    \"\"\"\n",
    "    convert strings from HNC to float locations\n",
    "    \n",
    "    \"\"\"\n",
    "#the following is the test for conversion of lat long     \n",
    "    if(v[-1] ==\"S\") or (v[-1] == \"W\"):\n",
    "        multiplier = -1\n",
    "    else:\n",
    "        multiplier = 1\n",
    "    return float(v[:-1])* multiplier\n",
    "# so if there is an S or W it gets a negative in front"
   ]
  },
  {
   "cell_type": "code",
   "execution_count": 16,
   "metadata": {},
   "outputs": [],
   "source": [
    "#now we have to read the data (text) into the machine\n",
    "#1. create an empty list to hold the data that we want\n",
    "data = []\n",
    "\n",
    "#open the data in \"r\", read mode...with file handle f\n",
    "# remember: .strip() removes the white space in the text. \n",
    "\n",
    "with open(\"hurdat2.txt\",\"r\") as f:\n",
    "    for line in f.readlines():\n",
    "        if line.startswith(\"AL\"):\n",
    "            storm_id = line.split(\",\")\n",
    "            storm_number = storm_id[0].strip()\n",
    "            storm_name = storm_id[1].strip()\n",
    "        else:\n",
    "            location_line = line.split(\",\")\n",
    "            dt = datetime.strptime(location_line[0] + location_line[1], \"%Y%m%d %H%M\")\n",
    "            storm_status = location_line[3].strip()\n",
    "            #each of the lines below is a column in the table.\n",
    "            storm_lat = lat_lon_to_float(location_line[4].strip())\n",
    "            storm_lon = lat_lon_to_float(location_line[5].strip())\n",
    "            max_speed = float(location_line[6].strip())\n",
    "            #now after parsing we can append them to our data list\n",
    "            data.append([storm_number, storm_name, storm_status, storm_lat, storm_lon, dt, max_speed])\n"
   ]
  },
  {
   "cell_type": "code",
   "execution_count": 17,
   "metadata": {},
   "outputs": [
    {
     "data": {
      "text/plain": [
       "['AL011851',\n",
       " 'UNNAMED',\n",
       " 'HU',\n",
       " 28.0,\n",
       " -94.8,\n",
       " datetime.datetime(1851, 6, 25, 0, 0),\n",
       " 80.0]"
      ]
     },
     "execution_count": 17,
     "metadata": {},
     "output_type": "execute_result"
    }
   ],
   "source": [
    "data[0]"
   ]
  },
  {
   "cell_type": "code",
   "execution_count": 18,
   "metadata": {},
   "outputs": [],
   "source": [
    "# now make the dataframe\n",
    "df = pd.DataFrame(data,columns=[\"Storm Number\",\"Storm Name\", \"Storm Status\", \"Lat\", \"Lon\", \"Time\", \"Max Speed\"])"
   ]
  },
  {
   "cell_type": "code",
   "execution_count": 19,
   "metadata": {},
   "outputs": [
    {
     "data": {
      "text/html": [
       "<div>\n",
       "<style scoped>\n",
       "    .dataframe tbody tr th:only-of-type {\n",
       "        vertical-align: middle;\n",
       "    }\n",
       "\n",
       "    .dataframe tbody tr th {\n",
       "        vertical-align: top;\n",
       "    }\n",
       "\n",
       "    .dataframe thead th {\n",
       "        text-align: right;\n",
       "    }\n",
       "</style>\n",
       "<table border=\"1\" class=\"dataframe\">\n",
       "  <thead>\n",
       "    <tr style=\"text-align: right;\">\n",
       "      <th></th>\n",
       "      <th>Storm Number</th>\n",
       "      <th>Storm Name</th>\n",
       "      <th>Storm Status</th>\n",
       "      <th>Lat</th>\n",
       "      <th>Lon</th>\n",
       "      <th>Time</th>\n",
       "      <th>Max Speed</th>\n",
       "    </tr>\n",
       "  </thead>\n",
       "  <tbody>\n",
       "    <tr>\n",
       "      <th>51835</th>\n",
       "      <td>AL202019</td>\n",
       "      <td>SEBASTIEN</td>\n",
       "      <td>EX</td>\n",
       "      <td>52.2</td>\n",
       "      <td>-9.3</td>\n",
       "      <td>2019-11-26 12:00:00</td>\n",
       "      <td>45.0</td>\n",
       "    </tr>\n",
       "    <tr>\n",
       "      <th>51836</th>\n",
       "      <td>AL202019</td>\n",
       "      <td>SEBASTIEN</td>\n",
       "      <td>EX</td>\n",
       "      <td>52.2</td>\n",
       "      <td>-8.9</td>\n",
       "      <td>2019-11-26 18:00:00</td>\n",
       "      <td>40.0</td>\n",
       "    </tr>\n",
       "    <tr>\n",
       "      <th>51837</th>\n",
       "      <td>AL202019</td>\n",
       "      <td>SEBASTIEN</td>\n",
       "      <td>EX</td>\n",
       "      <td>51.8</td>\n",
       "      <td>-8.2</td>\n",
       "      <td>2019-11-27 00:00:00</td>\n",
       "      <td>40.0</td>\n",
       "    </tr>\n",
       "    <tr>\n",
       "      <th>51838</th>\n",
       "      <td>AL202019</td>\n",
       "      <td>SEBASTIEN</td>\n",
       "      <td>EX</td>\n",
       "      <td>51.4</td>\n",
       "      <td>-6.0</td>\n",
       "      <td>2019-11-27 06:00:00</td>\n",
       "      <td>40.0</td>\n",
       "    </tr>\n",
       "    <tr>\n",
       "      <th>51839</th>\n",
       "      <td>AL202019</td>\n",
       "      <td>SEBASTIEN</td>\n",
       "      <td>EX</td>\n",
       "      <td>51.3</td>\n",
       "      <td>-2.1</td>\n",
       "      <td>2019-11-27 12:00:00</td>\n",
       "      <td>40.0</td>\n",
       "    </tr>\n",
       "  </tbody>\n",
       "</table>\n",
       "</div>"
      ],
      "text/plain": [
       "      Storm Number Storm Name Storm Status   Lat  Lon                Time  \\\n",
       "51835     AL202019  SEBASTIEN           EX  52.2 -9.3 2019-11-26 12:00:00   \n",
       "51836     AL202019  SEBASTIEN           EX  52.2 -8.9 2019-11-26 18:00:00   \n",
       "51837     AL202019  SEBASTIEN           EX  51.8 -8.2 2019-11-27 00:00:00   \n",
       "51838     AL202019  SEBASTIEN           EX  51.4 -6.0 2019-11-27 06:00:00   \n",
       "51839     AL202019  SEBASTIEN           EX  51.3 -2.1 2019-11-27 12:00:00   \n",
       "\n",
       "       Max Speed  \n",
       "51835       45.0  \n",
       "51836       40.0  \n",
       "51837       40.0  \n",
       "51838       40.0  \n",
       "51839       40.0  "
      ]
     },
     "execution_count": 19,
     "metadata": {},
     "output_type": "execute_result"
    }
   ],
   "source": [
    "#test the table\n",
    "df.head()\n",
    "df.tail()"
   ]
  },
  {
   "cell_type": "code",
   "execution_count": 20,
   "metadata": {},
   "outputs": [
    {
     "data": {
      "text/plain": [
       "1893"
      ]
     },
     "execution_count": 20,
     "metadata": {},
     "output_type": "execute_result"
    }
   ],
   "source": [
    "#how many storms have unique lengths?\n",
    "len(df[\"Storm Number\"].unique())"
   ]
  },
  {
   "cell_type": "code",
   "execution_count": 21,
   "metadata": {},
   "outputs": [
    {
     "data": {
      "text/html": [
       "<div>\n",
       "<style scoped>\n",
       "    .dataframe tbody tr th:only-of-type {\n",
       "        vertical-align: middle;\n",
       "    }\n",
       "\n",
       "    .dataframe tbody tr th {\n",
       "        vertical-align: top;\n",
       "    }\n",
       "\n",
       "    .dataframe thead th {\n",
       "        text-align: right;\n",
       "    }\n",
       "</style>\n",
       "<table border=\"1\" class=\"dataframe\">\n",
       "  <thead>\n",
       "    <tr style=\"text-align: right;\">\n",
       "      <th></th>\n",
       "      <th>Storm Number</th>\n",
       "      <th>Storm Name</th>\n",
       "      <th>Lat</th>\n",
       "      <th>Lon</th>\n",
       "      <th>Time</th>\n",
       "      <th>Max Speed</th>\n",
       "    </tr>\n",
       "    <tr>\n",
       "      <th>Storm Status</th>\n",
       "      <th></th>\n",
       "      <th></th>\n",
       "      <th></th>\n",
       "      <th></th>\n",
       "      <th></th>\n",
       "      <th></th>\n",
       "    </tr>\n",
       "  </thead>\n",
       "  <tbody>\n",
       "    <tr>\n",
       "      <th>DB</th>\n",
       "      <td>153</td>\n",
       "      <td>153</td>\n",
       "      <td>153</td>\n",
       "      <td>153</td>\n",
       "      <td>153</td>\n",
       "      <td>153</td>\n",
       "    </tr>\n",
       "    <tr>\n",
       "      <th>EX</th>\n",
       "      <td>5436</td>\n",
       "      <td>5436</td>\n",
       "      <td>5436</td>\n",
       "      <td>5436</td>\n",
       "      <td>5436</td>\n",
       "      <td>5436</td>\n",
       "    </tr>\n",
       "    <tr>\n",
       "      <th>HU</th>\n",
       "      <td>15042</td>\n",
       "      <td>15042</td>\n",
       "      <td>15042</td>\n",
       "      <td>15042</td>\n",
       "      <td>15042</td>\n",
       "      <td>15042</td>\n",
       "    </tr>\n",
       "    <tr>\n",
       "      <th>LO</th>\n",
       "      <td>1256</td>\n",
       "      <td>1256</td>\n",
       "      <td>1256</td>\n",
       "      <td>1256</td>\n",
       "      <td>1256</td>\n",
       "      <td>1256</td>\n",
       "    </tr>\n",
       "    <tr>\n",
       "      <th>SD</th>\n",
       "      <td>305</td>\n",
       "      <td>305</td>\n",
       "      <td>305</td>\n",
       "      <td>305</td>\n",
       "      <td>305</td>\n",
       "      <td>305</td>\n",
       "    </tr>\n",
       "    <tr>\n",
       "      <th>SS</th>\n",
       "      <td>624</td>\n",
       "      <td>624</td>\n",
       "      <td>624</td>\n",
       "      <td>624</td>\n",
       "      <td>624</td>\n",
       "      <td>624</td>\n",
       "    </tr>\n",
       "    <tr>\n",
       "      <th>TD</th>\n",
       "      <td>10052</td>\n",
       "      <td>10052</td>\n",
       "      <td>10052</td>\n",
       "      <td>10052</td>\n",
       "      <td>10052</td>\n",
       "      <td>10052</td>\n",
       "    </tr>\n",
       "    <tr>\n",
       "      <th>TS</th>\n",
       "      <td>18834</td>\n",
       "      <td>18834</td>\n",
       "      <td>18834</td>\n",
       "      <td>18834</td>\n",
       "      <td>18834</td>\n",
       "      <td>18834</td>\n",
       "    </tr>\n",
       "    <tr>\n",
       "      <th>WV</th>\n",
       "      <td>138</td>\n",
       "      <td>138</td>\n",
       "      <td>138</td>\n",
       "      <td>138</td>\n",
       "      <td>138</td>\n",
       "      <td>138</td>\n",
       "    </tr>\n",
       "  </tbody>\n",
       "</table>\n",
       "</div>"
      ],
      "text/plain": [
       "              Storm Number  Storm Name    Lat    Lon   Time  Max Speed\n",
       "Storm Status                                                          \n",
       "DB                     153         153    153    153    153        153\n",
       "EX                    5436        5436   5436   5436   5436       5436\n",
       "HU                   15042       15042  15042  15042  15042      15042\n",
       "LO                    1256        1256   1256   1256   1256       1256\n",
       "SD                     305         305    305    305    305        305\n",
       "SS                     624         624    624    624    624        624\n",
       "TD                   10052       10052  10052  10052  10052      10052\n",
       "TS                   18834       18834  18834  18834  18834      18834\n",
       "WV                     138         138    138    138    138        138"
      ]
     },
     "execution_count": 21,
     "metadata": {},
     "output_type": "execute_result"
    }
   ],
   "source": [
    "# what about how many lines have different storm status?\n",
    "#here is a table of the different designations, as shown in the .pdf that came with HURDAT\n",
    "df.groupby(\"Storm Status\").count()"
   ]
  },
  {
   "cell_type": "code",
   "execution_count": 22,
   "metadata": {},
   "outputs": [],
   "source": [
    "#conda install -c conda-forge cartopy\n"
   ]
  },
  {
   "cell_type": "code",
   "execution_count": 23,
   "metadata": {},
   "outputs": [],
   "source": [
    "# now we need to plot this on the map that was previously created.\n",
    "# this is where matplotlib will come in\n",
    "import matplotlib.pyplot as plt\n",
    "from matplotlib import cm\n",
    "import numpy as np\n",
    "import cartopy.crs as ccrs\n",
    "import cartopy.feature as cfeature\n",
    "#MAGIC  - render the figure in the notebook.\n",
    "%matplotlib inline\n"
   ]
  },
  {
   "cell_type": "code",
   "execution_count": 31,
   "metadata": {},
   "outputs": [
    {
     "ename": "IndentationError",
     "evalue": "expected an indented block (<ipython-input-31-10424b3a2cc0>, line 36)",
     "output_type": "error",
     "traceback": [
      "\u001b[0;36m  File \u001b[0;32m\"<ipython-input-31-10424b3a2cc0>\"\u001b[0;36m, line \u001b[0;32m36\u001b[0m\n\u001b[0;31m    if dt.year in range (2010, 2020):\u001b[0m\n\u001b[0m    ^\u001b[0m\n\u001b[0;31mIndentationError\u001b[0m\u001b[0;31m:\u001b[0m expected an indented block\n"
     ]
    }
   ],
   "source": [
    "# set coordinate ref. systems\n",
    "plot_crs =ccrs.LambertConformal(central_longitude = -100., central_latitude = 45)\n",
    "data_crs =ccrs.PlateCarree()\n",
    "\n",
    "#figures\n",
    "fig = plt.figure(figsize = (12,12))\n",
    "\n",
    "#axis\n",
    "ax = plt.subplot(1,1,1, projection=plot_crs)\n",
    "#left side,right side, bottom, top is the order below.\n",
    "#ax.set_extent([-80, -72, 34, 40], data_crs)\n",
    "\n",
    "\n",
    "#background map\n",
    "ax.stock_img()\n",
    "ax.add_feature(cfeature.STATES, linewidth = 0.5)\n",
    "ax.add_feature(cfeature.RIVERS, linewidth = 0.85, color = \"b\")\n",
    "ax.add_feature(cfeature.COASTLINE, linewidth = 0.5)\n",
    "ax.add_feature(cfeature.OCEAN)\n",
    "ax.add_feature(cfeature.LAKES, color = 'b')\n",
    "\n",
    "#df_hu = df[df[\"Storm Name\"] == \"FLOYD\"]\n",
    "df_hu = df[df[\"Storm Status\"] == \"HU\"]\n",
    "df_hu = df_hu[df_hu[\"Time\"] > datetime(2020-100,1,1)]\n",
    "#print(df_hu)\n",
    "\n",
    "import numpy as np\n",
    "from matplotlib import cm\n",
    "\n",
    "#from Chreston - VT - plotting loop for every unique storm\n",
    "for storm_number in df_hu[\"Storm Number\"].unique():\n",
    "    storm_data = df_hu[df_hu[\"Storm Number\"]==storm_number]\n",
    "    #for dt in df_hu[\"Time\"] in range (2020,2010): go from low to high\n",
    "    for dt in df_hu[\"Time\"]:\n",
    "        for dt in storm_data[\"Time\"]:\n",
    "    if dt.year in range (2010, 2020):\n",
    "            if dt.year == 2019:\n",
    "            ax.plot(storm_data[\"Lon\"], storm_data[\"Lat\"],color = 'b',transform=data_crs)\n",
    "            elif dt.year in range (2000, 2010): \n",
    "    elif dt.year == 2018:\n",
    "            ax.plot(storm_data[\"Lon\"], storm_data[\"Lat\"],color = 'r',transform=data_crs) \n",
    "    else:\n",
    "            print (\"error:\", storm_data)\n",
    "\n",
    "#for storm_number in df_hu[\"Storm Number\"].unique():\n",
    " #   storm_data = df_hu[df_hu[\"Storm Number\"] == storm_number]\n",
    "  #  ax.plot(storm_data[\"Lon\"], storm_data[\"Lat\"],color = 'r',transform=data_crs)\n",
    "\n",
    "\n",
    "\n",
    "   \n",
    "    \n",
    "  \n",
    "\n",
    "            \n",
    "    \n",
    "    \n",
    "\n"
   ]
  },
  {
   "cell_type": "code",
   "execution_count": null,
   "metadata": {},
   "outputs": [],
   "source": []
  },
  {
   "cell_type": "code",
   "execution_count": null,
   "metadata": {},
   "outputs": [],
   "source": []
  },
  {
   "cell_type": "code",
   "execution_count": null,
   "metadata": {},
   "outputs": [],
   "source": []
  }
 ],
 "metadata": {
  "celltoolbar": "Raw Cell Format",
  "kernelspec": {
   "display_name": "Python 3",
   "language": "python",
   "name": "python3"
  },
  "language_info": {
   "codemirror_mode": {
    "name": "ipython",
    "version": 3
   },
   "file_extension": ".py",
   "mimetype": "text/x-python",
   "name": "python",
   "nbconvert_exporter": "python",
   "pygments_lexer": "ipython3",
   "version": "3.8.3"
  }
 },
 "nbformat": 4,
 "nbformat_minor": 4
}
